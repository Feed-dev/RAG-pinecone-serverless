{
 "cells": [
  {
   "cell_type": "code",
   "execution_count": 7,
   "id": "9e545fe7-e7ec-4b16-89ae-6820bb534454",
   "metadata": {
    "scrolled": true
   },
   "source": [
    "import os\n",
    "from langchain_community.chat_models import ChatOpenAI\n",
    "from langchain_community.embeddings import CohereEmbeddings\n",
    "from langchain_community.vectorstores import Pinecone\n",
    "from langchain_core.output_parsers import StrOutputParser\n",
    "from langchain_core.prompts import ChatPromptTemplate\n",
    "from langchain_core.runnables import RunnableParallel, RunnablePassthrough, RunnableLambda\n",
    "from pinecone import Pinecone as PineconeClient\n",
    "import requests"
   ],
   "outputs": []
  },
  {
   "cell_type": "code",
   "execution_count": 8,
   "id": "6eed122c-aa7e-4856-ba01-66d6362d9758",
   "metadata": {},
   "source": [
    "# Keys\n",
    "PINECONE_API_KEY = os.environ[\"PINECONE_API_KEY\"]\n",
    "PINECONE_ENVIRONMENT = os.environ[\"PINECONE_ENVIRONMENT\"]\n",
    "PINECONE_INDEX_NAME = os.environ[\"PINECONE_INDEX_NAME\"]"
   ],
   "outputs": []
  },
  {
   "cell_type": "markdown",
   "id": "5621b9f9-f277-4d06-8bb0-72644792f2f8",
   "metadata": {},
   "source": [
    "Serverless index from [this dataset](https://huggingface.co/datasets/Cohere/wikipedia-22-12)."
   ]
  },
  {
   "cell_type": "code",
   "execution_count": 9,
   "id": "3de2de5e-aad0-4ca3-b816-f2cb07b2d251",
   "metadata": {},
   "source": [
    "# Init\n",
    "pinecone = PineconeClient(api_key=PINECONE_API_KEY,\n",
    "                         environment=PINECONE_ENVIRONMENT)\n",
    "\n",
    "embeddings = CohereEmbeddings(model=\"multilingual-22-12\")\n",
    "vectorstore = Pinecone.from_existing_index(index_name=PINECONE_INDEX_NAME, embedding=embeddings)\n",
    "retriever = vectorstore.as_retriever()"
   ],
   "outputs": []
  },
  {
   "cell_type": "code",
   "execution_count": 10,
   "id": "9586b0fa-8555-4bcc-8cfc-ffea62fddc67",
   "metadata": {},
   "source": [
    "# RAG prompt\n",
    "template = \"\"\"Answer the question based only on the following context:\n",
    "{context}\n",
    "Question: {question}\n",
    "\"\"\"\n",
    "prompt = ChatPromptTemplate.from_template(template)\n",
    "\n",
    "# RAG\n",
    "model = ChatOpenAI(temperature=0, \n",
    "                   model=\"gpt-4-1106-preview\")\n",
    "\n",
    "chain = (\n",
    "    RunnableParallel({\"context\": retriever, \"question\": RunnablePassthrough()})\n",
    "    | prompt\n",
    "    | model\n",
    "    | StrOutputParser()\n",
    ")"
   ],
   "outputs": []
  },
  {
   "cell_type": "code",
   "execution_count": 11,
   "id": "81c13ad6-cebb-4789-a9e6-816bca4e66bb",
   "metadata": {},
   "source": [
    "chain.invoke(\"what is film noir?\")"
   ],
   "outputs": []
  },
  {
   "cell_type": "markdown",
   "id": "4568a49d-91f7-4d5f-8514-9f5a447f5027",
   "metadata": {},
   "source": [
    "Extract full wiki page."
   ]
  },
  {
   "cell_type": "code",
   "execution_count": 12,
   "id": "ea74ba28-668c-4bc0-b262-568298e13533",
   "metadata": {},
   "source": [
    "def fetch_wikipedia_page(id):\n",
    "    url = f\"https://en.wikipedia.org/w/api.php?action=query&prop=extracts&format=json&pageids={id}\"\n",
    "    response = requests.get(url)\n",
    "    data = response.json()\n",
    "    page_content = list(data['query']['pages'].values())[0]['extract']\n",
    "    return page_content\n",
    "\n",
    "def fetch_url(x):\n",
    "    urls = [doc.metadata['url'] for doc in x['context']]\n",
    "    ids = [url.split('=')[-1] for url in urls]\n",
    "    # First 32k tokens\n",
    "    contents = [fetch_wikipedia_page(id)[:32000] for id in ids]    \n",
    "    return {\"context\": contents, \"question\": x[\"question\"]}\n",
    "\n",
    "# RAG\n",
    "model = ChatOpenAI(temperature=0, \n",
    "                   model=\"gpt-4-1106-preview\")\n",
    "\n",
    "chain = (\n",
    "    RunnableParallel({\"context\": retriever, \"question\": RunnablePassthrough()})\n",
    "    | RunnableLambda(fetch_url)  \n",
    "    | prompt\n",
    "    | model\n",
    "    | StrOutputParser()\n",
    ")"
   ],
   "outputs": []
  },
  {
   "cell_type": "code",
   "execution_count": 13,
   "id": "10d7eb82-c9ad-4ddd-a543-72b7fa40d009",
   "metadata": {},
   "source": [
    "chain.invoke(\"what is film noir?\")"
   ],
   "outputs": []
  }
 ],
 "metadata": {
  "kernelspec": {
   "display_name": "Python 3 (ipykernel)",
   "language": "python",
   "name": "python3"
  },
  "language_info": {
   "codemirror_mode": {
    "name": "ipython",
    "version": 3
   },
   "file_extension": ".py",
   "mimetype": "text/x-python",
   "name": "python",
   "nbconvert_exporter": "python",
   "pygments_lexer": "ipython3",
   "version": "3.11.4"
  }
 },
 "nbformat": 4,
 "nbformat_minor": 5
}
